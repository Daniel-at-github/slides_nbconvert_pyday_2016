{
 "cells": [
  {
   "cell_type": "markdown",
   "metadata": {
    "slideshow": {
     "slide_type": "slide"
    }
   },
   "source": [
    "# Online slides with nbconvert"
   ]
  },
  {
   "cell_type": "markdown",
   "metadata": {
    "slideshow": {
     "slide_type": "slide"
    }
   },
   "source": [
    "## Introduction\n",
    "\n",
    "\n",
    "### ¿Who am I?\n",
    "\n",
    "* Daniel Sánchez\n",
    "* Github: https://github.com/Daniel-at-github\n",
    "* Regular at Python Vigo (and subsequent pybirras)"
   ]
  },
  {
   "cell_type": "markdown",
   "metadata": {
    "slideshow": {
     "slide_type": "subslide"
    }
   },
   "source": [
    "## Introduction\n",
    "\n",
    "One of the most common tools for technical presentations that you could observe in online videos is [Reveal.js](https://github.com/hakimel/reveal.js) slides.  \n",
    "Why?:\n",
    "\n",
    "* **Multiplataform**: Developed in HTML5\n",
    "* **Simple**: All content is written in markdown\n",
    "* **Beautiful**: Syntax highlighting, multiple themes and transition styles, ..."
   ]
  },
  {
   "cell_type": "markdown",
   "metadata": {
    "slideshow": {
     "slide_type": "subslide"
    }
   },
   "source": [
    "## Introduction\n",
    "\n",
    "Steps (by software tool):\n",
    "\n",
    "* **Jupyter Notebook**: Write and organize slide deck content.\n",
    "* **nbconvert**: Transform notebook into Reveal.js presentation.\n",
    "* **git**: Store notebook and presentation versions into a repository.\n",
    "* **github.com**: Publish the presentation (and source code) online."
   ]
  },
  {
   "cell_type": "markdown",
   "metadata": {
    "slideshow": {
     "slide_type": "slide"
    }
   },
   "source": [
    "## Installation\n",
    "\n",
    "~~~ bash\n",
    "sudo apt install virtualenvwrapper git\n",
    "# source /etc/profile.d/virtualenvwrapper.sh\n",
    "mkvirtualenv --python=$(which python3) jupyter\n",
    "pip install --upgrade pip\n",
    "pip install --upgrade notebook\n",
    "mkdir ~/my_talk_dir\n",
    "cd ~/my_talk_dir\n",
    "~~~"
   ]
  },
  {
   "cell_type": "markdown",
   "metadata": {
    "slideshow": {
     "slide_type": "slide"
    }
   },
   "source": [
    "## Jupyter Notebook\n",
    "\n",
    "~~~ bash\n",
    "jupyter notebook # Will open a browser\n",
    "~~~\n",
    "* Create a new notebook: (Drop down button) New => Python3\n",
    "* Name it: (Menu) File => Rename (Ex: my_talk)\n",
    "* Enable slideshow mode: (Menu) View => Cell toolbar => slideshow\n",
    "* Configure cell to be a slide: (Cell) Slide type => Slide\n",
    "* Write content in markdown\n",
    "> \\# Title\n",
    "> text, ...\n",
    "* Convert cell type from code to markdown (Esc, m)\n",
    "* To save time, copy the cell (Esc, c) and paste it several times (Esc, v)"
   ]
  },
  {
   "cell_type": "markdown",
   "metadata": {
    "slideshow": {
     "slide_type": "subslide"
    }
   },
   "source": [
    "## Jupyter Notebook\n",
    "### Types of slides\n",
    "In reveal.js the presentation consists in columns of slides.  \n",
    "There are two types of slides:\n",
    "* Slide: The one at the top of the column\n",
    "* Sub-slide: The rest\n",
    "\n",
    "Each time you push space you show the next slide, one by une, from top to bottom. Being the next slide the one at the top of the right column."
   ]
  },
  {
   "cell_type": "markdown",
   "metadata": {
    "slideshow": {
     "slide_type": "subslide"
    }
   },
   "source": [
    "## Jupyter Notebook\n",
    "### Markdown\n",
    "(Menu) Help => Markdown\n",
    "Example of most used syntax:\n",
    "```\n",
    "#Title 1  \n",
    "##Title 2  \n",
    "...  \n",
    "**bold** _Italic_ *Italic too* ~~Strikethrough~~ **_Bold and italic_**  \n",
    "This is [an example](http://example.com/ \"Title\") inline link.  \n",
    "[This link](http://example.net/) has no title attribute.  \n",
    "![Alt text](/path/to/img.jpg)  \n",
    "~~~ python\n",
    "print(\"Syntax highlighted code goes between ~~~\")\n",
    "~~~\n",
    "```\n",
    "Two spaces (or more) at the end means new line (or two consecutive new lines)\n"
   ]
  },
  {
   "cell_type": "markdown",
   "metadata": {
    "slideshow": {
     "slide_type": "slide"
    }
   },
   "source": [
    "## nbconvert\n",
    "~~~ bash\n",
    "mkdir docs\n",
    "jupyter nbconvert ../my_talk.ipynb --to slides --reveal-prefix=./reveal.js --output-dir=./docs\n",
    "~~~"
   ]
  },
  {
   "cell_type": "markdown",
   "metadata": {
    "slideshow": {
     "slide_type": "slide"
    }
   },
   "source": [
    "## git\n",
    "~~~ bash\n",
    "git init\n",
    "git add my_talk.ipynb\n",
    "git commit -m \"Adding slides notebook\"\n",
    "git submodule add https://github.com/hakimel/reveal.js.git docs/reveal.js\n",
    "git add docs\n",
    "git commit -m \"Adding slides html\"\n",
    "~~~"
   ]
  },
  {
   "cell_type": "markdown",
   "metadata": {
    "slideshow": {
     "slide_type": "slide"
    }
   },
   "source": [
    "## github\n",
    "\n",
    "* Sign-in in http://github.com\n",
    "* Create a new repository https://github.com/new\n",
    "* Push changes to it (Example: user = my-user; repo = my-repo).\n",
    "~~~ bash\n",
    "git remote add origin git@github.com:my-user/my-repo.git\n",
    "git push -u origin master\n",
    "~~~\n",
    "* Configure publishing source for GitHub Pages. \n",
    "    * In settings https://github.com/my-user/my-repo/settings find **GitHub Pages** and change the **Select source** drop-down menu to select **master branch /docs folder**."
   ]
  },
  {
   "cell_type": "markdown",
   "metadata": {
    "slideshow": {
     "slide_type": "slide"
    }
   },
   "source": [
    "## Readme and index.html\n",
    "\n",
    "* Add a Readme.md in your repository root with a link to your talk https://my-user.github.io/my-repo/my_talk.slides.html\n",
    "    * Add theme and transition parameters if you like to change the defaults of revealjs https://my-user.github.io/my-repo/my_talk.slides.html?theme=sky&transition=cube#/\n",
    "* Add a redirection page for https://my-user.github.io/my-repo\n",
    "    * docs/index.html:\n",
    "~~~ html\n",
    "<!doctype html>\n",
    "<html>\n",
    "  <head>\n",
    "    <meta http-equiv=\"refresh\" content=\"0;URL=https://my-user.github.io/my-repo/my_talk.slides.html?theme=sky&transition=cube#/\">\n",
    "  </head>\n",
    "</html>\n",
    "~~~\n",
    "* Commit and push all to github\n",
    "~~~ bash\n",
    "git add Readme.md docs/index.html\n",
    "git commit -m \"Adding links\"\n",
    "git push origin master\n",
    "~~~"
   ]
  },
  {
   "cell_type": "markdown",
   "metadata": {
    "slideshow": {
     "slide_type": "slide"
    }
   },
   "source": [
    "## This presentation\n",
    "\n",
    "### https://daniel-at-github.github.io/test/creating_slides.slides.html?theme=sky&transition=cube#/\n"
   ]
  },
  {
   "cell_type": "code",
   "execution_count": null,
   "metadata": {
    "collapsed": true
   },
   "outputs": [],
   "source": []
  }
 ],
 "metadata": {
  "celltoolbar": "Slideshow",
  "kernelspec": {
   "display_name": "Python 2",
   "language": "python",
   "name": "python2"
  },
  "language_info": {
   "codemirror_mode": {
    "name": "ipython",
    "version": 2
   },
   "file_extension": ".py",
   "mimetype": "text/x-python",
   "name": "python",
   "nbconvert_exporter": "python",
   "pygments_lexer": "ipython2",
   "version": "2.7.6"
  }
 },
 "nbformat": 4,
 "nbformat_minor": 0
}
